{
 "cells": [
  {
   "cell_type": "code",
   "execution_count": null,
   "metadata": {},
   "outputs": [],
   "source": [
    "#Importar librerias\n",
    "import requests\n",
    "import pandas as pd"
   ]
  },
  {
   "cell_type": "code",
   "execution_count": null,
   "metadata": {},
   "outputs": [],
   "source": [
    "#Lista con todas las URL que se deben de usar\n",
    "pokelista = []\n",
    "for urls in range(152):\n",
    "    pokelista.append(f\"https://pokeapi.co/api/v2/pokemon/{urls}\")\n",
    "\n",
    "pokelista.pop(0)"
   ]
  },
  {
   "cell_type": "code",
   "execution_count": null,
   "metadata": {},
   "outputs": [],
   "source": [
    "#Captura de los 151 pokemones\n",
    "Almacenar = []\n",
    "#Se consume la API mediante la URL para convertirlo en un diccionario\n",
    "for cambio in pokelista:\n",
    "    pokemon = requests.get(cambio)\n",
    "    datos = pokemon.json()\n",
    "    #Puntos de vida\n",
    "    puntos_vida = 0\n",
    "    for data in datos[\"stats\"]:\n",
    "        if data['stat'][\"name\"] == \"hp\":\n",
    "            puntos_vida = data[\"base_stat\"]\n",
    "    puntos_vida\n",
    "    #Puntos de ataque\n",
    "    for data in datos[\"stats\"]:\n",
    "        if data['stat'][\"name\"] == \"attack\":\n",
    "            puntos_ataque = data[\"base_stat\"]\n",
    "    puntos_ataque\n",
    "    #Puntos de defensa\n",
    "    for data in datos[\"stats\"]:\n",
    "        if data['stat'][\"name\"] == \"defense\":\n",
    "            puntos_defensa = data[\"base_stat\"]\n",
    "    #Puntos de ataque especial\n",
    "    for data in datos[\"stats\"]:\n",
    "        if data['stat'][\"name\"] == \"special-attack\":\n",
    "            puntos_ataque_especial = data[\"base_stat\"]\n",
    "    #Puntos de defensa especial\n",
    "    for data in datos[\"stats\"]:\n",
    "        if data['stat']['name'] == \"special-defense\":\n",
    "            puntos_defensa_especial = data[\"base_stat\"]\n",
    "    #Puntos de velocidad\n",
    "    for data in datos[\"stats\"]:\n",
    "        if data['stat']['name'] == \"speed\":\n",
    "            puntos_velocidad = data[\"base_stat\"]\n",
    "    #Captura del nombre\n",
    "    for data in datos:\n",
    "        nombre= datos[\"name\"]\n",
    "    #Captura de las habilidades\n",
    "    habilidades = \"\"\n",
    "    for data in datos[\"abilities\"]:\n",
    "        habilidades = data['ability']['name'] + habilidades\n",
    "    habilidadesLista = [habilidades]\n",
    "    #Captura de la altura\n",
    "    for data in datos:\n",
    "        altura = datos[\"height\"]\n",
    "    #Capruta del peso\n",
    "    for data in datos:\n",
    "        peso = datos[\"weight\"]\n",
    "    #Captura de la cantidad de movimientos\n",
    "    movimientos =\"\"\n",
    "    for data in datos[\"moves\"]:\n",
    "        movimientos += data['move']['name']\n",
    "    movimientosLista = [movimientos]\n",
    "    #Captura de la imagen\n",
    "    for data in datos:\n",
    "        imagen = datos[\"sprites\"][\"front_default\"]\n",
    "    #Lista de listas para almacenar todo\n",
    "    Almacenar += [[nombre, puntos_vida, puntos_ataque,puntos_defensa,puntos_ataque_especial,puntos_defensa_especial,puntos_velocidad,habilidadesLista,altura\n",
    "    ,peso,movimientosLista,imagen]]\n"
   ]
  },
  {
   "cell_type": "code",
   "execution_count": null,
   "metadata": {},
   "outputs": [],
   "source": [
    "#Se convierte a dataFrame\n",
    "df = pd.DataFrame(Almacenar, columns=[\"Nombre\", \"Vida\", \"Ataque\", \"Defensa\", \"Ataque Especial\", \"Defensa Especial\", \"Velocidad\", \"Habilidades\", \"Altura\", \"Peso\", \"Movimientos\",\"Imagen\"])\n",
    "df"
   ]
  },
  {
   "cell_type": "code",
   "execution_count": null,
   "metadata": {},
   "outputs": [],
   "source": [
    "#Se descarga en csv\n",
    "descarga = df.to_csv('Almacenar.csv', sep=';')"
   ]
  }
 ],
 "metadata": {
  "kernelspec": {
   "display_name": "Python 3.10.7 64-bit",
   "language": "python",
   "name": "python3"
  },
  "language_info": {
   "codemirror_mode": {
    "name": "ipython",
    "version": 3
   },
   "file_extension": ".py",
   "mimetype": "text/x-python",
   "name": "python",
   "nbconvert_exporter": "python",
   "pygments_lexer": "ipython3",
   "version": "3.10.7"
  },
  "orig_nbformat": 4,
  "vscode": {
   "interpreter": {
    "hash": "0500ee97a5acf692a3fae68c042a7fe2448beaab5db2844a869d8b9e06d99759"
   }
  }
 },
 "nbformat": 4,
 "nbformat_minor": 2
}
